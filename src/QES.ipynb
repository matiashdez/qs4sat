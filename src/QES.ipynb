{
 "cells": [
  {
   "cell_type": "markdown",
   "metadata": {},
   "source": [
    "# Quantum Exponential Search\n",
    "Design for qiskit version 2.0.3\n",
    " \n",
    "Author: Matías Hernández Serrano\n",
    " \n",
    "Version: 1.0.0\n",
    "\n",
    "Date: 2025-07-02\n",
    "\n",
    "Code to find a solution in SAT problem when m is unknown. It applies Quantum Exponential Search until find a solution\n"
   ]
  },
  {
   "cell_type": "code",
   "execution_count": 3,
   "metadata": {},
   "outputs": [],
   "source": [
    "from quantum_algorithms import *\n",
    "from graph_coloring import *\n",
    "from utils import *"
   ]
  },
  {
   "cell_type": "markdown",
   "metadata": {},
   "source": [
    "Create a topology an execute"
   ]
  },
  {
   "cell_type": "code",
   "execution_count": 5,
   "metadata": {},
   "outputs": [
    {
     "name": "stderr",
     "output_type": "stream",
     "text": [
      "c:\\Users\\matto\\AppData\\Local\\Programs\\Python\\Python312\\Lib\\site-packages\\qiskit\\providers\\fake_provider\\generic_backend_v2.py:348: RuntimeWarning: Aer not found using BasicSimulator and no noise\n",
      "  warnings.warn(\"Aer not found using BasicSimulator and no noise\", RuntimeWarning)\n"
     ]
    },
    {
     "name": "stdout",
     "output_type": "stream",
     "text": [
      "Solution not found. Increasing m to 1.1428571428571428\n",
      "[0, 1, 1, 0, 0, 1]\n"
     ]
    }
   ],
   "source": [
    "nodes = 3\n",
    "edges = [(0, 1), (1, 2)]\n",
    "colors = 2\n",
    "n_qubits = nodes * colors\n",
    "top_k = 3\n",
    "\n",
    "oracle = graph_coloring_oracle_sat_formula(nodes, edges, colors, use_extendedEdges=False)\n",
    "check_oracle = oracle\n",
    "\n",
    "\n",
    "exponentialSearch = create_exponential_graph_coloring_search(oracle, check_oracle, n_qubits, top_k, growth=8/7)\n",
    "\n",
    "print(exponentialSearch)"
   ]
  },
  {
   "cell_type": "code",
   "execution_count": null,
   "metadata": {},
   "outputs": [],
   "source": []
  }
 ],
 "metadata": {
  "kernelspec": {
   "display_name": "Python 3",
   "language": "python",
   "name": "python3"
  },
  "language_info": {
   "codemirror_mode": {
    "name": "ipython",
    "version": 3
   },
   "file_extension": ".py",
   "mimetype": "text/x-python",
   "name": "python",
   "nbconvert_exporter": "python",
   "pygments_lexer": "ipython3",
   "version": "3.12.3"
  }
 },
 "nbformat": 4,
 "nbformat_minor": 2
}
